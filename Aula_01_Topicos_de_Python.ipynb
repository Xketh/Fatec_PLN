{
  "nbformat": 4,
  "nbformat_minor": 0,
  "metadata": {
    "colab": {
      "provenance": [],
      "mount_file_id": "1n8kj5P0n5910UWPGs6h49dFxFrcWpfsI",
      "authorship_tag": "ABX9TyPrJCKu65Sa5K4Rny01UOsN",
      "include_colab_link": true
    },
    "kernelspec": {
      "name": "python3",
      "display_name": "Python 3"
    },
    "language_info": {
      "name": "python"
    }
  },
  "cells": [
    {
      "cell_type": "markdown",
      "metadata": {
        "id": "view-in-github",
        "colab_type": "text"
      },
      "source": [
        "<a href=\"https://colab.research.google.com/github/Xketh/Fatec_PLN/blob/main/Aula_01_Topicos_de_Python.ipynb\" target=\"_parent\"><img src=\"https://colab.research.google.com/assets/colab-badge.svg\" alt=\"Open In Colab\"/></a>"
      ]
    },
    {
      "cell_type": "code",
      "execution_count": null,
      "metadata": {
        "id": "kEQOrtnDeSrh"
      },
      "outputs": [],
      "source": []
    },
    {
      "cell_type": "markdown",
      "source": [
        "# 1 Estrutra básicas do Python\n",
        "\n",
        "Programas que possuem a seguinte funcionalidades:\n",
        "\n",
        "\n",
        "*   Entrada de Informação\n",
        "*   Processamento\n",
        "*   Saída de Informação\n",
        "\n",
        "\n",
        "\n",
        "\n",
        "\n",
        "\n",
        "\n",
        "\n",
        "\n",
        "\n"
      ],
      "metadata": {
        "id": "QO2gu_Lnj9q1"
      }
    },
    {
      "cell_type": "code",
      "source": [],
      "metadata": {
        "id": "XcHRYJajk0Ln"
      },
      "execution_count": null,
      "outputs": []
    },
    {
      "cell_type": "markdown",
      "source": [
        "## 1 Exemplo - Calculadora com as operações com as matemáticas básdicas\n",
        "\n",
        "* Entrada de Informação - 2 valores numéricos inteiros\n",
        "\n",
        "* Processamento - executar com cada um dos valores as operações matemáticas de soma, subtração, multiplicação e divisão\n",
        "* Saída de Informação - resultado de cada operação"
      ],
      "metadata": {
        "id": "LIz8QWZdk7FO"
      }
    },
    {
      "cell_type": "code",
      "source": [
        "\n",
        " n1 = int(input (\"Insira um valor numérico: \"))\n",
        " n2 = int(input (\"Insira um outro valor numérico: \"))\n",
        "\n",
        " soma = n1 + n2\n",
        " subtracao = n1 - n2\n",
        " multiplicacao = n1 * n2\n",
        " divisao = n1 / n2\n",
        "\n",
        " print(soma)\n",
        " print(subtracao)\n",
        " print (multiplicacao)\n",
        " print (divisao)"
      ],
      "metadata": {
        "colab": {
          "base_uri": "https://localhost:8080/"
        },
        "id": "dglY_GGvm7OI",
        "outputId": "f338796e-e72e-46ed-d841-b752fe5fe44b"
      },
      "execution_count": null,
      "outputs": [
        {
          "output_type": "stream",
          "name": "stdout",
          "text": [
            "Insira um valor numérico: 20\n",
            "Insira um outro valor numérico: 4\n",
            "24\n",
            "16\n",
            "80\n",
            "5.0\n"
          ]
        }
      ]
    },
    {
      "cell_type": "code",
      "source": [],
      "metadata": {
        "id": "INE6EOJnpxXJ"
      },
      "execution_count": null,
      "outputs": []
    },
    {
      "cell_type": "markdown",
      "source": [
        "# import marth\n",
        "\n",
        "Para importar a biblioteca de funcionalidades matematicas (algoritmos, frações...)\n",
        "\n",
        "Precisa acessar o site do phyton e buscar a biblioteca\n"
      ],
      "metadata": {
        "id": "tkpu2V9Xp7Yt"
      }
    },
    {
      "cell_type": "code",
      "source": [],
      "metadata": {
        "id": "ApSQtLJzpvnd"
      },
      "execution_count": null,
      "outputs": []
    },
    {
      "cell_type": "code",
      "source": [
        "import math"
      ],
      "metadata": {
        "id": "vxqGBfPzNc9c"
      },
      "execution_count": 1,
      "outputs": []
    },
    {
      "cell_type": "markdown",
      "source": [
        "Estrutura Seletiva"
      ],
      "metadata": {
        "id": "OSGL88klNjNl"
      }
    },
    {
      "cell_type": "markdown",
      "source": [
        "Estrutura de Repetição"
      ],
      "metadata": {
        "id": "4spmUdO2N5TR"
      }
    },
    {
      "cell_type": "markdown",
      "source": [
        "Definição de Função"
      ],
      "metadata": {
        "id": "-nDsISKmN8LG"
      }
    }
  ]
}