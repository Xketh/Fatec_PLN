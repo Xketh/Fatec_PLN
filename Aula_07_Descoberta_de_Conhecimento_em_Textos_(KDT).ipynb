{
  "nbformat": 4,
  "nbformat_minor": 0,
  "metadata": {
    "colab": {
      "provenance": [],
      "collapsed_sections": [
        "9Q37cwm8Zn70",
        "sD2lwd-SjkEZ",
        "S7PFIyqHkDfc"
      ],
      "authorship_tag": "ABX9TyMipjw3Lt5bgmV/ComNpt9S",
      "include_colab_link": true
    },
    "kernelspec": {
      "name": "python3",
      "display_name": "Python 3"
    },
    "language_info": {
      "name": "python"
    }
  },
  "cells": [
    {
      "cell_type": "markdown",
      "metadata": {
        "id": "view-in-github",
        "colab_type": "text"
      },
      "source": [
        "<a href=\"https://colab.research.google.com/github/Xketh/Fatec_PLN/blob/main/Aula_07_Descoberta_de_Conhecimento_em_Textos_(KDT).ipynb\" target=\"_parent\"><img src=\"https://colab.research.google.com/assets/colab-badge.svg\" alt=\"Open In Colab\"/></a>"
      ]
    },
    {
      "cell_type": "markdown",
      "source": [
        "# **Objetivos**\n",
        "---\n",
        "\n",
        "Aprender a extrair informações importantes de textos usando técnicas simples, como reconhecimento de nomes, contagem de palavras e análise de sentimentos, para transformar textos comuns em dados úteis."
      ],
      "metadata": {
        "id": "yEc1Y328O3Pt"
      }
    },
    {
      "cell_type": "markdown",
      "source": [
        "# **1. Conceitos fundamentais de Descoberta de Conhecimento em Textos (KDT)**\n",
        "---\n",
        "É o processo de analisar muitos textos para encontrar informações importantes, padrões ou respostas úteis automaticamente, sem precisar ler tudo manualmente.\n",
        "\n",
        "* **Exemplo:**\n",
        "\n",
        " Por exemplo, imagine analisar várias críticas e notícias sobre o filme Homem-Aranha para saber rapidamente o que as pessoas estão falando.\n"
      ],
      "metadata": {
        "id": "11UYXlXmPEx1"
      }
    },
    {
      "cell_type": "code",
      "source": [
        "#Imprime algumas críticas fictícias para ver o que as pessoas falam\n",
        "\n",
        "criticas = [\n",
        "    \"Adorei o filme do Homem-Aranha com Tom Holland, ele é muito carismático!\",\n",
        "    \"Andrew Garfield trouxe uma versão mais séria e emocional do Homem-Aranha.\",\n",
        "    \"Tobey Maguire foi o primeiro e marcou muita gente com seu estilo clássico.\",\n",
        "    \"Os efeitos especiais no filme do Tom Holland são incríveis!\",\n",
        "    \"Achei a atuação do Andrew Garfield um pouco fraca em algumas cenas.\"\n",
        "]\n",
        "\n",
        "print(\"O que as pessoas estão falando sobre os filmes do Homem-Aranha:\\n\")\n",
        "for critica in criticas:\n",
        "    print(\"-\", critica)\n"
      ],
      "metadata": {
        "colab": {
          "base_uri": "https://localhost:8080/"
        },
        "id": "yX5kMH1gUxJG",
        "outputId": "fe678cc3-01a2-4fe0-afe8-3ae4ee56faba"
      },
      "execution_count": 6,
      "outputs": [
        {
          "output_type": "stream",
          "name": "stdout",
          "text": [
            "O que as pessoas estão falando sobre os filmes do Homem-Aranha:\n",
            "\n",
            "- Adorei o filme do Homem-Aranha com Tom Holland, ele é muito carismático!\n",
            "- Andrew Garfield trouxe uma versão mais séria e emocional do Homem-Aranha.\n",
            "- Tobey Maguire foi o primeiro e marcou muita gente com seu estilo clássico.\n",
            "- Os efeitos especiais no filme do Tom Holland são incríveis!\n",
            "- Achei a atuação do Andrew Garfield um pouco fraca em algumas cenas.\n"
          ]
        }
      ]
    },
    {
      "cell_type": "markdown",
      "source": [
        "# **2. Técnicas de identificação de Entidades Nomeadas (NER)**\n",
        "---\n",
        "É uma técnica que identifica e classifica palavras ou frases específicas em um texto, como nomes de pessoas, lugares, organizações, datas, valores monetários, etc. Permitindo extrair dados importantes diretamente do texto.\n",
        "\n",
        "* **Exemplo:**\n",
        "\n",
        " No universo do 🕷️Homem-Aranha🕷️ , o NER pode identificar:\n",
        "\n",
        "- 'Peter Parker' como pessoa ❤️\n",
        "- 'Nova York' como lugar\n",
        "- 'Oscorp' como organização\n",
        "- e '2019' como data"
      ],
      "metadata": {
        "id": "AlrvseTgQFGd"
      }
    },
    {
      "cell_type": "code",
      "source": [
        "import spacy\n",
        "\n",
        "# Carregar o modelo de linguagem do spaCy (em inglês)\n",
        "nlp = spacy.load(\"en_core_web_sm\")\n",
        "\n",
        "# Texto do universo do Homem-Aranha\n",
        "texto = \"\"\"\n",
        "No universo do Homem-Aranha, Peter Parker mora em Nova York. Oscorp é uma organização importante na história,\n",
        "e os eventos de Homem-Aranha: Longe de Casa aconteceram em 2019.\n",
        "\"\"\"\n",
        "\n",
        "# Processar o texto usando o modelo carregado\n",
        "doc = nlp(texto)\n",
        "\n",
        "# Mostrar as entidades nomeadas encontradas no texto\n",
        "print(\"Entidades nomeadas identificadas:\")\n",
        "for ent in doc.ents:\n",
        "    print(f\"- {ent.text} ({ent.label_})\")\n"
      ],
      "metadata": {
        "colab": {
          "base_uri": "https://localhost:8080/"
        },
        "id": "hoGN0u5ufFmM",
        "outputId": "92dd9b90-2d4c-46cc-efb3-5e3a122355c5"
      },
      "execution_count": 36,
      "outputs": [
        {
          "output_type": "stream",
          "name": "stdout",
          "text": [
            "Entidades nomeadas identificadas:\n",
            "- Homem-Aranha (ORG)\n",
            "- Peter Parker (PERSON)\n",
            "- Nova York (GPE)\n",
            "- Oscorp (ORG)\n",
            "- na história (GPE)\n",
            "- de Homem-Aranha (PERSON)\n",
            "- Longe de Casa (PERSON)\n",
            "- 2019 (DATE)\n"
          ]
        }
      ]
    },
    {
      "cell_type": "markdown",
      "source": [
        "### **2.1 Técnicas de identificação de Entidades Nomeadas (NER) com spaCy**\n",
        "\n",
        "Esse código usa o spaCy para identificar e mostrar nomes de pessoas, organizações, datas e outros elementos importantes dentro de um texto sobre os filmes do Homem-Aranha.\n"
      ],
      "metadata": {
        "id": "WPb4CUiRd-2Y"
      }
    },
    {
      "cell_type": "code",
      "source": [
        "import spacy\n",
        "\n",
        "# Carregar modelo em inglês para reconhecer nomes próprios em inglês\n",
        "nlp = spacy.load(\"en_core_web_sm\")\n",
        "\n",
        "texto = \"\"\"\n",
        "Os filmes do Homem-Aranha tiveram Tobey Maguire, Andrew Garfield e Tom Holland como protagonistas.\n",
        "Tobey Maguire interpretou o personagem no início dos anos 2000.\n",
        "Andrew Garfield atuou na série Amazing Spider-Man.\n",
        "Tom Holland é o mais recente ator a interpretar o Homem-Aranha no Universo Cinematográfico Marvel.\n",
        "\"\"\"\n",
        "\n",
        "doc = nlp(texto)\n",
        "\n",
        "print(\"Entidades encontradas com spaCy:\")\n",
        "for ent in doc.ents:\n",
        "    print(f\"- {ent.text} ({ent.label_})\")\n"
      ],
      "metadata": {
        "colab": {
          "base_uri": "https://localhost:8080/"
        },
        "id": "Mzu-aFj3eh-m",
        "outputId": "df60a9e1-f599-4ccd-ddb4-b26e35758f06"
      },
      "execution_count": 27,
      "outputs": [
        {
          "output_type": "stream",
          "name": "stdout",
          "text": [
            "Entidades encontradas com spaCy:\n",
            "- Homem-Aranha (ORG)\n",
            "- Tobey Maguire (PERSON)\n",
            "- Andrew Garfield (PERSON)\n",
            "- Tom Holland (PERSON)\n",
            "- Tobey Maguire (ORG)\n",
            "- 2000 (DATE)\n",
            "- Andrew Garfield (PERSON)\n",
            "- Amazing Spider-Man (ORG)\n",
            "- Tom Holland (PERSON)\n",
            "- Homem-Aranha (ORG)\n"
          ]
        }
      ]
    },
    {
      "cell_type": "markdown",
      "source": [
        "### **2.2 Técnicas de identificação de Entidades Nomeadas (NER) com NLTK**\n",
        "\n",
        "O código identifica e lista no texto os nomes de pessoas, lugares e organizações mencionados sobre o filme."
      ],
      "metadata": {
        "id": "9Q37cwm8Zn70"
      }
    },
    {
      "cell_type": "code",
      "source": [
        "import nltk\n",
        "\n",
        "# Baixa o recurso \"punkt\", que é responsável por dividir o texto em sentenças e palavras (tokenização).\n",
        "nltk.download('punkt')\n",
        "\n",
        "# Baixa o recurso para \"POS tagging\" (Part-Of-Speech tagging), que identifica a função gramatical das palavras no texto, como substantivo, verbo, etc.\n",
        "nltk.download('averaged_perceptron_tagger_eng')\n",
        "\n",
        "# Baixa o recurso para \"Named Entity Recognition\" (NER), que identifica entidades nomeadas no texto, como pessoas, locais e organizações.\n",
        "nltk.download('maxent_ne_chunker')\n",
        "\n",
        "# Baixa uma lista de palavras do vocabulário que ajuda o modelo a validar palavras durante o processamento.\n",
        "nltk.download('words')\n",
        "\n",
        "# Baixa o recurso necessário para o ne_chunker\n",
        "nltk.download('maxent_ne_chunker_tab')\n",
        "\n",
        "from nltk import word_tokenize, pos_tag, ne_chunk\n",
        "\n",
        "texto = \"\"\"\n",
        "The Spider-Man movies starred Tobey Maguire, Andrew Garfield, and Tom Holland.\n",
        "\"\"\"\n",
        "\n",
        "tokens = word_tokenize(texto)          # Divide o texto em palavras\n",
        "pos_tags = pos_tag(tokens)             # Faz a marcação gramatical\n",
        "entidades = ne_chunk(pos_tags)         # Extrai entidades nomeadas\n",
        "\n",
        "print(\"Entidades nomeadas encontradas:\")\n",
        "for entidade in entidades:\n",
        "    if hasattr(entidade, 'label'):\n",
        "        nome_entidade = ' '.join(c[0] for c in entidade)\n",
        "        tipo_entidade = entidade.label()\n",
        "        print(f\"- {nome_entidade} ({tipo_entidade})\")"
      ],
      "metadata": {
        "colab": {
          "base_uri": "https://localhost:8080/"
        },
        "id": "pPoLg3hNbf5R",
        "outputId": "d0f8a588-15e3-4eeb-b620-5917a74dc2c3"
      },
      "execution_count": 26,
      "outputs": [
        {
          "output_type": "stream",
          "name": "stderr",
          "text": [
            "[nltk_data] Downloading package punkt to /root/nltk_data...\n",
            "[nltk_data]   Package punkt is already up-to-date!\n",
            "[nltk_data] Downloading package averaged_perceptron_tagger_eng to\n",
            "[nltk_data]     /root/nltk_data...\n",
            "[nltk_data]   Package averaged_perceptron_tagger_eng is already up-to-\n",
            "[nltk_data]       date!\n",
            "[nltk_data] Downloading package maxent_ne_chunker to\n",
            "[nltk_data]     /root/nltk_data...\n",
            "[nltk_data]   Package maxent_ne_chunker is already up-to-date!\n",
            "[nltk_data] Downloading package words to /root/nltk_data...\n",
            "[nltk_data]   Package words is already up-to-date!\n",
            "[nltk_data] Downloading package maxent_ne_chunker_tab to\n",
            "[nltk_data]     /root/nltk_data...\n",
            "[nltk_data]   Unzipping chunkers/maxent_ne_chunker_tab.zip.\n"
          ]
        },
        {
          "output_type": "stream",
          "name": "stdout",
          "text": [
            "Entidades nomeadas encontradas:\n",
            "- Tobey Maguire (PERSON)\n",
            "- Andrew Garfield (PERSON)\n",
            "- Tom Holland (PERSON)\n"
          ]
        }
      ]
    },
    {
      "cell_type": "markdown",
      "source": [
        "# **3. Técnicas para Extrair e Analisar Informações em Textos com Python**\n",
        "---\n",
        "Essas técnicas ajudam a identificar informações importantes dentro de muitos textos, como nomes, datas, opiniões e padrões de palavras, facilitando transformar textos simples em dados organizados e fáceis de entender.\n",
        "\n",
        "* **Exemplo:**\n",
        "\n",
        " Com a mineração de textos, podemos extrair informações como:\n",
        "\n",
        "- Quais personagens aparecem mais.\n",
        "- Quais cenas ou eventos são mais comentados.\n",
        "- E até sentimentos, como se os fãs gostaram ou não do filme.\n",
        "\n",
        "Assim, a partir de várias críticas do Homem-Aranha, conseguimos saber o que agradou o público e o que poderia melhorar.\n",
        "\n",
        "Assim, conseguimos entender melhor o que agrada ou precisa ser melhorado nos filmes.\n",
        "\n",
        "obs: Ressaltando que todos os filmes foram bons, não tem nada pra melhorar e só minha opinião importa, rs. 🕷️❤️\n",
        "\n",
        "* **O código a baixo:**\n",
        "\n",
        " Conta as palavras que mais aparecem, encontra os anos, e ainda diz se o filme do Homem-Aranha deixou a galera feliz, triste ou no meio termo! 😊"
      ],
      "metadata": {
        "id": "Lf7ZsLDaQzqK"
      }
    },
    {
      "cell_type": "code",
      "source": [
        "import re\n",
        "from collections import Counter\n",
        "from textblob import TextBlob\n",
        "from textblob.sentiments import NaiveBayesAnalyzer\n",
        "\n",
        "# Texto de exemplo em português sobre o filme do Homem-Aranha\n",
        "texto = \"\"\"\n",
        "O filme do Homem-Aranha lançado em 2019 foi muito esperado pelos fãs. Peter Parker, interpretado por Tom Holland,\n",
        "enfrenta desafios em Nova York enquanto lida com a Oscorp e vilões perigosos. Muitos fãs comentaram que o filme é incrível,\n",
        "mas alguns acharam o roteiro um pouco previsível. No geral, o filme agradou e conquistou muitos corações ❤️.\n",
        "\"\"\"\n",
        "\n",
        "# 1. Expressões Regulares: Encontrar anos (quatro dígitos seguidos)\n",
        "anos = re.findall(r'\\b\\d{4}\\b', texto)\n",
        "print(\"Anos encontrados no texto:\", anos)\n",
        "\n",
        "# 2. Frequência de palavras simples (ignorando palavras comuns)\n",
        "palavras = re.findall(r'\\b\\w+\\b', texto.lower())\n",
        "palavras_comuns = {'o', 'a', 'de', 'em', 'e', 'por', 'que', 'os', 'no', 'com', 'um', 'uma', 'foi', 'mas', 'se'}\n",
        "palavras_filtradas = [p for p in palavras if p not in palavras_comuns]\n",
        "\n",
        "frequencia = Counter(palavras_filtradas)\n",
        "print(\"\\nPalavras mais frequentes:\")\n",
        "for palavra, freq in frequencia.most_common(5):\n",
        "    print(f\"{palavra}: {freq} vezes\")\n",
        "\n",
        "# 3. Análise simples de sentimento usando TextBlob (em português)\n",
        "# Para usar em português, instalamos textblob-aptagger e indicamos o idioma\n",
        "blob = TextBlob(texto)\n",
        "sentimento = blob.sentiment.polarity  # Vai de -1 (negativo) a 1 (positivo)\n",
        "\n",
        "print(\"\\nAnálise simples de sentimento do texto:\")\n",
        "if sentimento > 0:\n",
        "    print(\"Sentimento geral: Positivo 😊\")\n",
        "elif sentimento < 0:\n",
        "    print(\"Sentimento geral: Negativo 😞\")\n",
        "else:\n",
        "    print(\"Sentimento geral: Neutro 😐\")\n"
      ],
      "metadata": {
        "colab": {
          "base_uri": "https://localhost:8080/"
        },
        "id": "ZDsKfMW9VrNm",
        "outputId": "cb1e13a1-1e2b-445e-c9b8-971317f2e313"
      },
      "execution_count": 31,
      "outputs": [
        {
          "output_type": "stream",
          "name": "stdout",
          "text": [
            "Anos encontrados no texto: ['2019']\n",
            "\n",
            "Palavras mais frequentes:\n",
            "filme: 3 vezes\n",
            "fãs: 2 vezes\n",
            "muitos: 2 vezes\n",
            "do: 1 vezes\n",
            "homem: 1 vezes\n",
            "\n",
            "Análise simples de sentimento do texto:\n",
            "Sentimento geral: Neutro 😐\n"
          ]
        }
      ]
    },
    {
      "cell_type": "markdown",
      "source": [
        "###**3.1 Métodos de extração de informação com expressões regulares**\n",
        "\n",
        "Usa padrões escritos como “máscaras” para encontrar informações específicas em textos, como datas, nomes ou números.\n",
        "\n",
        "* **Exemplo:**\n",
        " Usa expressões regulares para encontrar nomes de atores do Homem-Aranha e os anos em que eles participaram dos filmes"
      ],
      "metadata": {
        "id": "wc7vcZ1YglhD"
      }
    },
    {
      "cell_type": "code",
      "source": [
        "import re\n",
        "\n",
        "texto = \"\"\"\n",
        "Filmes do Homem-Aranha com Tobey Maguire (2002-2007), Andrew Garfield (2012-2014) e Tom Holland (2016-presente).\n",
        "\"\"\"\n",
        "\n",
        "# Extrair nomes e anos entre parênteses\n",
        "padrao = r\"([A-Z][a-z]+ [A-Z][a-z]+) \\(([\\d\\-]+)\\)\"\n",
        "resultados = re.findall(padrao, texto)\n",
        "\n",
        "print(\"Atores e seus anos nos filmes (extraídos com regex):\")\n",
        "for nome, anos in resultados:\n",
        "    print(f\"- {nome}: {anos}\")\n"
      ],
      "metadata": {
        "colab": {
          "base_uri": "https://localhost:8080/"
        },
        "id": "AvjOpTP-jWo-",
        "outputId": "da6f230f-22d4-4a7c-e584-b4179fcb0b2d"
      },
      "execution_count": 32,
      "outputs": [
        {
          "output_type": "stream",
          "name": "stdout",
          "text": [
            "Atores e seus anos nos filmes (extraídos com regex):\n",
            "- Tobey Maguire: 2002-2007\n",
            "- Andrew Garfield: 2012-2014\n"
          ]
        }
      ]
    },
    {
      "cell_type": "markdown",
      "source": [
        "###**3.2 Métodos de extração de informação com Regras heurísticas e dicionários**\n",
        "\n",
        "Usa um conjunto de regras e listas pré-definidas (dicionários) para identificar palavras importantes ou categorias em textos.\n",
        "\n",
        "* **Exemplo:**\n",
        "\n",
        " Usando uma lista de atores e anos, vasculha o texto para confirmar se cada ator realmente atuou nos anos indicados e te conta certinho quando foi!"
      ],
      "metadata": {
        "id": "fujA2rkigzQG"
      }
    },
    {
      "cell_type": "code",
      "source": [
        "texto = \"\"\"\n",
        "Tobey Maguire atuou nos filmes de 2002 a 2007.\n",
        "Andrew Garfield estrelou entre 2012 e 2014.\n",
        "Tom Holland está no papel desde 2016.\n",
        "\"\"\"\n",
        "\n",
        "# Dicionário simples com atores e palavras-chave para buscar anos\n",
        "atores = {\n",
        "    \"Tobey Maguire\": [\"2002\", \"2007\"],\n",
        "    \"Andrew Garfield\": [\"2012\", \"2014\"],\n",
        "    \"Tom Holland\": [\"2016\"]\n",
        "}\n",
        "\n",
        "for ator, anos in atores.items():\n",
        "    encontrado = all(ano in texto for ano in anos)\n",
        "    if encontrado:\n",
        "        print(f\"O ator {ator} participou dos filmes nos anos {', '.join(anos)}.\")\n",
        "    else:\n",
        "        print(f\"A informação dos anos para {ator} não foi encontrada claramente.\")\n"
      ],
      "metadata": {
        "colab": {
          "base_uri": "https://localhost:8080/"
        },
        "id": "Y0rS3bAKjcl0",
        "outputId": "4451647b-3024-4af0-e8de-e4dcf075aaa1"
      },
      "execution_count": 33,
      "outputs": [
        {
          "output_type": "stream",
          "name": "stdout",
          "text": [
            "O ator Tobey Maguire participou dos filmes nos anos 2002, 2007.\n",
            "O ator Andrew Garfield participou dos filmes nos anos 2012, 2014.\n",
            "O ator Tom Holland participou dos filmes nos anos 2016.\n"
          ]
        }
      ]
    },
    {
      "cell_type": "markdown",
      "source": [
        "###**3.3 Mineração de Textos com Frequência de palavras e N-gramas (usando NLTK)**\n",
        "\n",
        "Usa a contagem das palavras e grupos de palavras (como pares ou trios) para identificar os termos e expressões que mais aparecem em um texto.\n",
        "\n",
        "* **Exemplo:**\n",
        "\n",
        " Lê o texto do Homem-Aranha e conta quais palavras e duplas de palavras aparecem mais vezes, para descobrir os segredos que o público mais fala!"
      ],
      "metadata": {
        "id": "sD2lwd-SjkEZ"
      }
    },
    {
      "cell_type": "code",
      "source": [
        "import nltk\n",
        "from nltk.util import ngrams\n",
        "from collections import Counter\n",
        "\n",
        "texto = \"\"\"\n",
        "Homem-Aranha é um personagem popular.\n",
        "Os filmes do Homem-Aranha com Tobey Maguire, Andrew Garfield e Tom Holland têm diferentes estilos.\n",
        "O público gosta bastante das cenas de ação e da história do Peter Parker.\n",
        "\"\"\"\n",
        "\n",
        "tokens = nltk.word_tokenize(texto.lower())\n",
        "\n",
        "# Frequência de palavras\n",
        "freq_palavras = Counter(tokens)\n",
        "\n",
        "print(\"Palavras mais comuns:\")\n",
        "for palavra, freq in freq_palavras.most_common(5):\n",
        "    print(f\"- {palavra}: {freq}\")\n",
        "\n",
        "# Frequência de bigramas (pares de palavras)\n",
        "bigramas = list(ngrams(tokens, 2))\n",
        "freq_bigramas = Counter(bigramas)\n",
        "\n",
        "print(\"\\nBigramas mais comuns:\")\n",
        "for bigrama, freq in freq_bigramas.most_common(5):\n",
        "    print(f\"- {' '.join(bigrama)}: {freq}\")\n"
      ],
      "metadata": {
        "colab": {
          "base_uri": "https://localhost:8080/"
        },
        "id": "_KRSCd02kaBO",
        "outputId": "72b533dd-21dd-4391-b3c4-1d5b7883c6ef"
      },
      "execution_count": 34,
      "outputs": [
        {
          "output_type": "stream",
          "name": "stdout",
          "text": [
            "Palavras mais comuns:\n",
            "- .: 3\n",
            "- homem-aranha: 2\n",
            "- do: 2\n",
            "- e: 2\n",
            "- é: 1\n",
            "\n",
            "Bigramas mais comuns:\n",
            "- homem-aranha é: 1\n",
            "- é um: 1\n",
            "- um personagem: 1\n",
            "- personagem popular: 1\n",
            "- popular .: 1\n"
          ]
        }
      ]
    },
    {
      "cell_type": "markdown",
      "source": [
        "###**3.4 Mineração de Texto — análise simples de sentimento (usando TextBlob)**\n",
        "\n",
        "Avalia se os textos expressam sentimentos positivos, negativos ou neutros para entender a opinião geral sobre um assunto.\n",
        "\n",
        "* **Exemplo:**\n",
        "\n",
        " Analisar comentários sobre o filme do Homem-Aranha para saber se os fãs gostaram (“Amei o filme!”) ou ficaram insatisfeitos (“O roteiro foi confuso”). Ele lê as opiniões sobre os filmes do Homem-Aranha e diz se o sentimento da crítica é positivo, negativo ou neutro."
      ],
      "metadata": {
        "id": "S7PFIyqHkDfc"
      }
    },
    {
      "cell_type": "code",
      "source": [
        "from textblob import TextBlob\n",
        "\n",
        "criticas = [\n",
        "    \"Adorei o filme do Homem-Aranha com Tom Holland, ele é muito carismático!\",\n",
        "    \"Andrew Garfield trouxe uma versão mais séria e emocional do Homem-Aranha.\",\n",
        "    \"Tobey Maguire foi o primeiro e marcou muita gente com seu estilo clássico.\",\n",
        "    \"Os efeitos especiais no filme do Tom Holland são incríveis!\",\n",
        "    \"Achei a atuação do Andrew Garfield um pouco fraca em algumas cenas.\"\n",
        "]\n",
        "\n",
        "print(\"Análise simples de sentimento das críticas:\")\n",
        "\n",
        "for critica in criticas:\n",
        "    tb = TextBlob(critica)\n",
        "    sentimento = tb.sentiment.polarity\n",
        "    print(f\"- \\\"{critica}\\\" -> Sentimento: {sentimento:.2f}  \", end=\"\")\n",
        "    if sentimento > 0:\n",
        "        print(\"(positivo)\")\n",
        "    elif sentimento < 0:\n",
        "        print(\"(negativo)\")\n",
        "    else:\n",
        "        print(\"(neutro)\")\n"
      ],
      "metadata": {
        "colab": {
          "base_uri": "https://localhost:8080/"
        },
        "id": "MPzekFdXkdV9",
        "outputId": "2cef25d9-8a93-4625-a1a7-f49ce6557a4f"
      },
      "execution_count": 35,
      "outputs": [
        {
          "output_type": "stream",
          "name": "stdout",
          "text": [
            "Análise simples de sentimento das críticas:\n",
            "- \"Adorei o filme do Homem-Aranha com Tom Holland, ele é muito carismático!\" -> Sentimento: 0.00  (neutro)\n",
            "- \"Andrew Garfield trouxe uma versão mais séria e emocional do Homem-Aranha.\" -> Sentimento: 0.00  (neutro)\n",
            "- \"Tobey Maguire foi o primeiro e marcou muita gente com seu estilo clássico.\" -> Sentimento: 0.00  (neutro)\n",
            "- \"Os efeitos especiais no filme do Tom Holland são incríveis!\" -> Sentimento: 0.00  (neutro)\n",
            "- \"Achei a atuação do Andrew Garfield um pouco fraca em algumas cenas.\" -> Sentimento: 0.00  (neutro)\n"
          ]
        }
      ]
    }
  ]
}