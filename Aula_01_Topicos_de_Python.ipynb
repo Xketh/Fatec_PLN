{
  "nbformat": 4,
  "nbformat_minor": 0,
  "metadata": {
    "colab": {
      "provenance": [],
      "collapsed_sections": [
        "LIz8QWZdk7FO",
        "sj2vFcuV1XUe"
      ],
      "mount_file_id": "1n8kj5P0n5910UWPGs6h49dFxFrcWpfsI",
      "authorship_tag": "ABX9TyMmDnItf9khHP77Nq7pOlDI",
      "include_colab_link": true
    },
    "kernelspec": {
      "name": "python3",
      "display_name": "Python 3"
    },
    "language_info": {
      "name": "python"
    }
  },
  "cells": [
    {
      "cell_type": "markdown",
      "metadata": {
        "id": "view-in-github",
        "colab_type": "text"
      },
      "source": [
        "<a href=\"https://colab.research.google.com/github/Xketh/Fatec_PLN/blob/main/Aula_01_Topicos_de_Python.ipynb\" target=\"_parent\"><img src=\"https://colab.research.google.com/assets/colab-badge.svg\" alt=\"Open In Colab\"/></a>"
      ]
    },
    {
      "cell_type": "markdown",
      "source": [
        "#Estrutura básica do Python 🐍\n",
        "\n",
        "Programas que possuem a seguinte funcionalidades:\n",
        "\n",
        "\n",
        "*   Entrada de Informação\n",
        "*   Processamento da informação\n",
        "*   Saída de Informação\n",
        "\n"
      ],
      "metadata": {
        "id": "hIu2EnZJYH3z"
      }
    },
    {
      "cell_type": "markdown",
      "source": [
        "#📖Biblioteca Padrão do Python 📖\n",
        "\n",
        "* Para importar a biblioteca de funcionalidades matematicas (Import Math) (algoritmos, frações...) é necessário acessar o site do phyton e buscar na biblioteca a funcionalidade que precisa.\n",
        "\n",
        "* [Biblioteca Padrão do Python](https://docs.python.org/pt-br/3/library/)\n",
        "\n",
        "> Manter um padrão de formatação ajuda a facilitar o código. Por exemplo:\n",
        "\n",
        "* Padrão do nome da variável: nome_da_Variavel\n",
        "\n",
        "* Padrão do nome da função: nome_da_funcao\n",
        "\n",
        "\n",
        "\n",
        "\n",
        "\n",
        "\n",
        "\n",
        "\n",
        "\n"
      ],
      "metadata": {
        "id": "QO2gu_Lnj9q1"
      }
    },
    {
      "cell_type": "code",
      "source": [
        "#Na linguagem Python, a **indentação** (espaço dado antes de uma linha) é utilizada para demarcar os blocos de código.\n",
        "\n",
        "for numero in range(3):  #Começa o loop\n",
        "\n",
        "    if numero == 1:      #Condição dentro do loop\n",
        "\n",
        "        print(\"Número é 1\")  #Este código está \"dentro\" do if\n",
        "\n",
        "    print(f\"Número atual: {numero}\")  #Este está \"dentro\" do for\n",
        "\n",
        "print(\"Fim do loop\")  # Fora do loop\n"
      ],
      "metadata": {
        "id": "tsCLePKbYVoy"
      },
      "execution_count": null,
      "outputs": []
    },
    {
      "cell_type": "markdown",
      "source": [
        "# ➕ Calculadora com as operações matemáticas ➕\n",
        "\n",
        "* Entrada de Informação: 2 valores numéricos inteiros\n",
        "\n",
        "* Processamento: Executar com cada um dos valores as operações matemáticas de soma, subtração, multiplicação e divisão\n",
        "\n",
        "* Saída de Informação: Resultado de cada operação"
      ],
      "metadata": {
        "id": "LIz8QWZdk7FO"
      }
    },
    {
      "cell_type": "markdown",
      "source": [
        "1° Exemplo\n",
        "\n",
        "Soma, subtração, multiplicação e divisão do mesmo número.\n"
      ],
      "metadata": {
        "id": "p8b_ypf6CJaG"
      }
    },
    {
      "cell_type": "code",
      "source": [
        " n1 = int(input (\"Insira um valor numérico: \"))\n",
        " n2 = int(input (\"Insira um outro valor numérico: \"))\n",
        "\n",
        " soma = n1 + n2\n",
        " subtracao = n1 - n2\n",
        " multiplicacao = n1 * n2\n",
        " divisao = n1 / n2\n",
        "\n",
        " print(soma)\n",
        " print(subtracao)\n",
        " print (multiplicacao)\n",
        " print (divisao)"
      ],
      "metadata": {
        "colab": {
          "base_uri": "https://localhost:8080/"
        },
        "id": "dglY_GGvm7OI",
        "outputId": "55cc194f-f8c5-45b5-b06a-38fcdf5a8b48"
      },
      "execution_count": 14,
      "outputs": [
        {
          "output_type": "stream",
          "name": "stdout",
          "text": [
            "Insira um valor numérico: 10\n",
            "Insira um outro valor numérico: 5\n",
            "15\n",
            "5\n",
            "50\n",
            "2.0\n"
          ]
        }
      ]
    },
    {
      "cell_type": "markdown",
      "source": [
        "2° Exemplo\n",
        "\n",
        "Calcule o fatorial de um número informado por um usuário"
      ],
      "metadata": {
        "id": "7gdlo2djCZVY"
      }
    },
    {
      "cell_type": "code",
      "source": [
        "import math\n",
        "\n",
        "n = int(input('Informe um número qualquer: '))\n",
        "fatorial = math.factorial(n)\n",
        "\n",
        "print(f\"O fatorial do valor informado {n} {fatorial}.\")"
      ],
      "metadata": {
        "colab": {
          "base_uri": "https://localhost:8080/"
        },
        "id": "vxqGBfPzNc9c",
        "outputId": "15db5690-16d9-4761-995c-4d0f51628ce3"
      },
      "execution_count": 13,
      "outputs": [
        {
          "output_type": "stream",
          "name": "stdout",
          "text": [
            "Informe um número qualquer: 10\n",
            "O fatorial do valor informado 10 3628800.\n"
          ]
        }
      ]
    },
    {
      "cell_type": "markdown",
      "source": [
        "3° Exemplo\n",
        "\n",
        " Efetuar o cálculo e apresentar o valor de uma prestação de um bem em atraso, utilizando a fórmula:\n",
        "\n",
        "   PRESTAÇÃO = (VALOR * (Taxa / 100) * TEMPO).\n",
        "\n",
        "   Entendimento:\n",
        "* Ler os valores desconhecidos, representados pelas variáveis: [valor; taxa; tempo];\n",
        "* Efetuar o cálculo [prestação = valor + (valor * (taxa / 100) * tempo)];\n",
        "* Apresentar o valor da váriavel {prestação];\n",
        "\n"
      ],
      "metadata": {
        "id": "kHYZWiwJCjPn"
      }
    },
    {
      "cell_type": "code",
      "source": [
        "#Entrada de dados\n",
        "\n",
        "VALOR = float(input(\"Informe o valor da prestação atrasada: \"))\n",
        "TAXA = float(input('Informe a taxa de juros ao mês: '))\n",
        "TEMPO = float(input('Informe a quantidade de meses em atraso: '))\n",
        "\n",
        "#Processamento\n",
        "\n",
        "PRESTACAO = (VALOR * (TAXA / 100) * TEMPO)\n",
        "\n",
        "#Saida\n",
        "\n",
        "print(f\"o valor em atraso é {PRESTACAO}\")\n",
        "\n",
        "#Padrao de nome de variavel: nome_da_Variavel\n",
        "\n",
        "#Padrao de nome da funcao: nome_da_funcao\n"
      ],
      "metadata": {
        "colab": {
          "base_uri": "https://localhost:8080/"
        },
        "id": "wS0A2dIJsFI0",
        "outputId": "dbe9d3a8-41ec-4235-b681-1c62ef8ac6bd"
      },
      "execution_count": 7,
      "outputs": [
        {
          "output_type": "stream",
          "name": "stdout",
          "text": [
            "Informe o valor da prestação atrasada: 5\n",
            "Informe a taxa de juros ao mês: 5\n",
            "Informe a quantidade de meses em atraso: 2\n",
            "o valor em atraso é 0.5\n"
          ]
        }
      ]
    },
    {
      "cell_type": "markdown",
      "source": [
        "# 🏗 Estrutura Seletiva 🏗\n",
        "\n",
        "A estrutura seletiva avalia uma expressão, que é transformada em um valor booleano (verdadeiro ou falso). Dependendo do valor booleano, o programa executa diferentes ações.\n",
        "\n",
        "Exemplos de uso\n",
        "* Verificar se o valor digitado pelo usuário está correto.\n",
        "* Calcular bônus salarial com base no tempo de empresa.\n",
        "* Calcular desconto de produtos com base no número de filhos do cliente.\n",
        "* Verificar se um número é negativo ou par."
      ],
      "metadata": {
        "id": "sj2vFcuV1XUe"
      }
    },
    {
      "cell_type": "markdown",
      "source": [
        "1° Exemplo:\n",
        "\n",
        " Realizar a leitura dos valores de quatro notas escolares bimestrais\n",
        "de um aluno, representadas pelas variáveis N1, N2, N3 e N4.\n",
        "Calcular a média aritmética (variável MD) desse aluno e apresentar a mensagem\n",
        "\"Aprovado\" se a média for maior ou igual a 5, e a mensagem \"Reprovado\"\n",
        "caso contrário.\n",
        "Informar também, após a apresentação das mensagens, o valor da média obtida pelo aluno.\n",
        "\n",
        "Entendimento:\n",
        "* Definir a entrada de 4 valores, representados por [N1; N2; N3; N4];\n",
        "*  Efetuar o cálculo da média dos valores [MD = (N1 + N2 + N3 + N4);\n",
        "* Verificar se o valor de média é maior ou igual à 6;\n",
        "* Caso seja maior, apresentar a mensagem: \"Aprovado com média\" e apresentar o valor da variável [MD];\n",
        "* Caso contrário, apresentar a mensagem \"Reprovado com média\" e apresentar o valor da variável [MD];"
      ],
      "metadata": {
        "id": "okOMPGU1H61H"
      }
    },
    {
      "cell_type": "code",
      "source": [
        "#Entrada\n",
        "\n",
        "N1= float(input(\"Informe a primeira nota do aluno: \"))\n",
        "N2= float(input(\"Informe a segunda nota do aluno: \"))\n",
        "N3= float(input(\"Informe a terceira nota do aluno: \"))\n",
        "N4 = float(input(\"Informe a quarta nota do aluno: \"))\n",
        "\n",
        "#Processamento\n",
        "\n",
        "MD = (N1 + N2 + N3 + N4) / 4\n",
        "\n",
        "#Saída\n",
        "\n",
        "if (MD >= 6):\n",
        "  print(f'O aluno foi aprovado com média {MD}')\n",
        "\n",
        "else:\n",
        "  print(f\"O aluno foi reprovado com média {MD}\")\n",
        "\n",
        "#No Python é necessário fazer o espaçamento dos paragrafos dentro o if e else, para que funcione corretamente.\n"
      ],
      "metadata": {
        "colab": {
          "base_uri": "https://localhost:8080/"
        },
        "id": "f9aXuCuL1fxF",
        "outputId": "60035df5-fd09-4401-b105-5b0bff3f8689"
      },
      "execution_count": 21,
      "outputs": [
        {
          "output_type": "stream",
          "name": "stdout",
          "text": [
            "Informe a primeira nota do aluno: 1\n",
            "Informe a segunda nota do aluno: 10\n",
            "Informe a terceira nota do aluno: 10\n",
            "Informe a quarta nota do aluno: 9\n",
            "O aluno foi aprovado com média 7.5\n"
          ]
        }
      ]
    },
    {
      "cell_type": "markdown",
      "source": [
        "# 🔁 Estrutura de Repetição 🔁"
      ],
      "metadata": {
        "id": "M9fK4jYu1gmv"
      }
    },
    {
      "cell_type": "markdown",
      "source": [
        "Uma estrutura de repetição, também conhecida como loop, é um bloco de código que se repete até que uma condição seja satisfeita.\n",
        "\n",
        "> As estruturas de repetição são úteis para automatizar tarefas repetitivas.\n",
        "\n",
        "* Economizam tempo e esforço\n",
        "Tornam o código mais legível, conciso e fácil de manter\n",
        "* Executam uma única operação em todos os dados.\n",
        "\n",
        "\n",
        "> Exemplos de estruturas de repetição:\n",
        "\n",
        "* Use for quando souber quantas vezes repetir (ex.: uma lista ou intervalo).\n",
        "\n",
        "* Use while quando não souber (ex.: até que algo aconteça).\n",
        "\n",
        "\n",
        "> Como usar estruturas de repetição:\n",
        "\n",
        "* Para percorrer listas, tuplas, strings e outras coleções, use o loop for.\n",
        "\n",
        "* Para repetir ações um número específico de vezes, use o loop for com range.\n",
        "\n",
        "* Para iterar sobre itens e seus índices em listas, use o loop for com enumerate."
      ],
      "metadata": {
        "id": "n5gArqKLQ-vJ"
      }
    },
    {
      "cell_type": "markdown",
      "source": [
        "**Exemplos de For Loop**\n",
        "\n",
        "O loop for é usado para iterar sobre uma sequência, como listas, strings ou intervalos numéricos. Ele percorre cada elemento da sequência."
      ],
      "metadata": {
        "id": "KgJatHImTovp"
      }
    },
    {
      "cell_type": "code",
      "source": [
        "#Imprime cada fruta da lista.\n",
        "\n",
        "frutas=[\"laranja\", \"morango\", \"melancia\"]\n",
        "for fruta in frutas:\n",
        "    print(f\"Hoje temos suco de {fruta}.\")\n"
      ],
      "metadata": {
        "colab": {
          "base_uri": "https://localhost:8080/"
        },
        "id": "9hZvRVYCTixh",
        "outputId": "b063a398-e530-4a4b-d9c1-3d22e0a41cbf"
      },
      "execution_count": 33,
      "outputs": [
        {
          "output_type": "stream",
          "name": "stdout",
          "text": [
            "Hoje temos suco de laranja.\n",
            "Hoje temos suco de morango.\n",
            "Hoje temos suco de melancia.\n"
          ]
        }
      ]
    },
    {
      "cell_type": "code",
      "source": [
        "#Números de 1 a 15\n",
        "\n",
        "for (numero) in range(1, 16):\n",
        "    print('Esse numero é o', (numero))"
      ],
      "metadata": {
        "colab": {
          "base_uri": "https://localhost:8080/"
        },
        "id": "JySQO0kpUlp6",
        "outputId": "fa286ec3-0cea-471b-86ed-7236db48b07a"
      },
      "execution_count": 29,
      "outputs": [
        {
          "output_type": "stream",
          "name": "stdout",
          "text": [
            "Esse numero é o 1\n",
            "Esse numero é o 2\n",
            "Esse numero é o 3\n",
            "Esse numero é o 4\n",
            "Esse numero é o 5\n",
            "Esse numero é o 6\n",
            "Esse numero é o 7\n",
            "Esse numero é o 8\n",
            "Esse numero é o 9\n",
            "Esse numero é o 10\n",
            "Esse numero é o 11\n",
            "Esse numero é o 12\n",
            "Esse numero é o 13\n",
            "Esse numero é o 14\n",
            "Esse numero é o 15\n"
          ]
        }
      ]
    },
    {
      "cell_type": "markdown",
      "source": [
        "**Exemplos de While Loop**\n",
        "\n",
        "Repete enquanto uma condição for verdadeira."
      ],
      "metadata": {
        "id": "XTuFm_H7WvTC"
      }
    },
    {
      "cell_type": "code",
      "source": [
        "#Enquanto contador for menor ou igual a 10, o código continua.\n",
        "\n",
        "contador = 1\n",
        "while contador <= 10:\n",
        "    print(contador)\n",
        "    contador += 1  #Soma 1 ao contador\n"
      ],
      "metadata": {
        "colab": {
          "base_uri": "https://localhost:8080/"
        },
        "id": "Mikj1vGJW6iJ",
        "outputId": "e26ad61e-1564-479f-be3c-f84f3c7e02fc"
      },
      "execution_count": 36,
      "outputs": [
        {
          "output_type": "stream",
          "name": "stdout",
          "text": [
            "1\n",
            "2\n",
            "3\n",
            "4\n",
            "5\n",
            "6\n",
            "7\n",
            "8\n",
            "9\n",
            "10\n"
          ]
        }
      ]
    },
    {
      "cell_type": "markdown",
      "source": [
        "#**f(x) ‍** Definição de Função **f(x) ‍**\n",
        "\n"
      ],
      "metadata": {
        "id": "MtO4XmEC1jt-"
      }
    },
    {
      "cell_type": "markdown",
      "source": [
        "Uma função é um bloco de código que executa uma tarefa específica e pode ser reutilizado.\n",
        "\n",
        "> Estrutura básica de uma função:\n",
        "\n",
        "* **`def`**: Palavra-chave que indica o início da definição da função.\n",
        "\n",
        "* **`nome_da_funcao`**: Nome descritivo para identificar e chamar a função.\n",
        "\n",
        "* **`parametros`**: Valores que podem ser recebidos para processamento, colocados entre parênteses.\n",
        "\n",
        "* **`Bloco de código indentado`**: instruções que a função executará.\n",
        "\n",
        "* **`return`**: Palavra-chave que devolve um resultado ao final da execução (opcional)."
      ],
      "metadata": {
        "id": "mY_08R6yach7"
      }
    },
    {
      "cell_type": "code",
      "source": [
        "#Soma de dois números\n",
        "\n",
        "#Definição da função\n",
        "\n",
        "def somar(a, b):\n",
        "    resultado = a + b\n",
        "    return resultado  # Retorna a soma\n",
        "\n",
        "#Chamando a função\n",
        "soma = somar(3, 5)  #Armazena o resultado da função em uma variável\n",
        "\n",
        "print(f\"O resultado da soma desses dois números é: {soma}\")  #Exibe a mensagem com o resultado\n"
      ],
      "metadata": {
        "colab": {
          "base_uri": "https://localhost:8080/"
        },
        "id": "29D9_XNUcDvz",
        "outputId": "bacd2164-43a8-4248-fa60-8f6915716011"
      },
      "execution_count": 43,
      "outputs": [
        {
          "output_type": "stream",
          "name": "stdout",
          "text": [
            "O resultado da soma desses dois números é: 8\n"
          ]
        }
      ]
    },
    {
      "cell_type": "code",
      "source": [],
      "metadata": {
        "id": "NOH1L8-Ycr2D"
      },
      "execution_count": null,
      "outputs": []
    }
  ]
}