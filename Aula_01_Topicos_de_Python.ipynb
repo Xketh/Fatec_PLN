{
  "nbformat": 4,
  "nbformat_minor": 0,
  "metadata": {
    "colab": {
      "provenance": [],
      "mount_file_id": "1n8kj5P0n5910UWPGs6h49dFxFrcWpfsI",
      "authorship_tag": "ABX9TyNY9KNo7eaUP2zHmM8haX3c",
      "include_colab_link": true
    },
    "kernelspec": {
      "name": "python3",
      "display_name": "Python 3"
    },
    "language_info": {
      "name": "python"
    }
  },
  "cells": [
    {
      "cell_type": "markdown",
      "metadata": {
        "id": "view-in-github",
        "colab_type": "text"
      },
      "source": [
        "<a href=\"https://colab.research.google.com/github/Xketh/Fatec_PLN/blob/main/Aula_01_Topicos_de_Python.ipynb\" target=\"_parent\"><img src=\"https://colab.research.google.com/assets/colab-badge.svg\" alt=\"Open In Colab\"/></a>"
      ]
    },
    {
      "cell_type": "code",
      "execution_count": null,
      "metadata": {
        "id": "kEQOrtnDeSrh"
      },
      "outputs": [],
      "source": []
    },
    {
      "cell_type": "markdown",
      "source": [
        "# 1 Estrutra básicas do Python\n",
        "\n",
        "Programas que possuem a seguinte funcionalidades:\n",
        "\n",
        "\n",
        "*   Entrada de Informação\n",
        "*   Processamento\n",
        "*   Saída de Informação\n",
        "\n",
        "\n",
        "\n",
        "\n",
        "\n",
        "\n",
        "\n",
        "\n",
        "\n",
        "\n"
      ],
      "metadata": {
        "id": "QO2gu_Lnj9q1"
      }
    },
    {
      "cell_type": "code",
      "source": [],
      "metadata": {
        "id": "XcHRYJajk0Ln"
      },
      "execution_count": null,
      "outputs": []
    },
    {
      "cell_type": "markdown",
      "source": [
        "## 1 Exemplo - Calculadora com as operações com as matemáticas básdicas\n",
        "\n",
        "* Entrada de Informação - 2 valores numéricos inteiros\n",
        "\n",
        "* Processamento - executar com cada um dos valores as operações matemáticas de soma, subtração, multiplicação e divisão\n",
        "* Saída de Informação - resultado de cada operação"
      ],
      "metadata": {
        "id": "LIz8QWZdk7FO"
      }
    }
  ]
}