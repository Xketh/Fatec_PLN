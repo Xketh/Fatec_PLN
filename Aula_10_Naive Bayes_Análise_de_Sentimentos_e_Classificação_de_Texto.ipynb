{
  "nbformat": 4,
  "nbformat_minor": 0,
  "metadata": {
    "colab": {
      "provenance": [],
      "collapsed_sections": [
        "952l2M08bfCh"
      ],
      "authorship_tag": "ABX9TyOQUovrbJJjg78HDfX07Oht",
      "include_colab_link": true
    },
    "kernelspec": {
      "name": "python3",
      "display_name": "Python 3"
    },
    "language_info": {
      "name": "python"
    }
  },
  "cells": [
    {
      "cell_type": "markdown",
      "metadata": {
        "id": "view-in-github",
        "colab_type": "text"
      },
      "source": [
        "<a href=\"https://colab.research.google.com/github/Xketh/Fatec_PLN/blob/main/Aula_10_Naive%20Bayes_An%C3%A1lise_de_Sentimentos_e_Classifica%C3%A7%C3%A3o_de_Texto.ipynb\" target=\"_parent\"><img src=\"https://colab.research.google.com/assets/colab-badge.svg\" alt=\"Open In Colab\"/></a>"
      ]
    },
    {
      "cell_type": "markdown",
      "source": [
        "# **Objetivo**\n",
        "---\n",
        "\n",
        "Entender como a Análise de Sentimentos é aplicada em várias áreas, aprender os algoritmos básicos como Naive Bayes e Árvores de Decisão para classificar textos, e explorar diferentes técnicas usadas para identificar emoções em mensagens.\n",
        "\n",
        "\n",
        "* **Explorar como a Análise de Sentimentos é usada em várias áreas:** Como atendimento ao cliente, marketing, e redes sociais.\n",
        "\n",
        "* **Entender o algoritmo Naive Bayes:** Conhecer como este método básico funciona para classificar textos e identificar sentimentos.\n",
        "\n",
        "* **Compreender Árvores de Decisão:** Descobrir como este algoritmo organiza informações para ajudar na classificação de textos.\n",
        "\n",
        "* **Conhecer abordagens variadas para Análise de Sentimentos:** Entender que existem diferentes formas e técnicas para analisar sentimentos em textos."
      ],
      "metadata": {
        "id": "Q_lqH5QhZJHK"
      }
    },
    {
      "cell_type": "markdown",
      "source": [
        "#**O algoritmo Naive Bayes**\n",
        "---\n",
        "\n",
        "O Naive Bayes é um método estatístico baseado no Teorema de Bayes, que calcula a probabilidade de algo acontecer com base em evidências anteriores. Ele é chamado de \"naive\" (ingênuo) porque assume que todas as palavras em um texto são independentes entre si, o que nem sempre é verdade, mas funciona bem na prática.\n",
        "\n",
        "Na classificação de textos, o Naive Bayes determina a probabilidade de um texto pertencer a uma categoria específica (como \"Positivo\" ou \"Negativo\") analisando as palavras que ele contém.\n",
        "\n",
        "O código a seguir, analisa as palavras de uma frase e determina se o sentimento dela é \"Positivo\" ou \"Negativo\" com base em exemplos simples usando o método de Naive Bayes."
      ],
      "metadata": {
        "id": "mmTWL3JEvzp9"
      }
    },
    {
      "cell_type": "code",
      "source": [
        "# (Exemplo retirado da internet) //\n",
        "\n",
        "\n",
        "# Dados simples de treinamento\n",
        "avaliacoes = [\n",
        "    (\"Adorei o filme\", \"Positivo\"),\n",
        "    (\"Horrível e chato\", \"Negativo\"),\n",
        "    (\"Ótimo e divertido\", \"Positivo\"),\n",
        "    (\"Não gostei\", \"Negativo\"),\n",
        "]\n",
        "\n",
        "# Função para contar palavras\n",
        "def contar_palavras(avaliacoes, sentimento):\n",
        "    palavras = {}\n",
        "    for frase, sent in avaliacoes:\n",
        "        if sent == sentimento:\n",
        "            for palavra in frase.split():\n",
        "                palavras[palavra] = palavras.get(palavra, 0) + 1\n",
        "    return palavras\n",
        "\n",
        "# Função para classificar uma frase\n",
        "def classificar_avaliacao(frase, avaliacoes):\n",
        "    positivo = contar_palavras(avaliacoes, \"Positivo\")\n",
        "    negativo = contar_palavras(avaliacoes, \"Negativo\")\n",
        "\n",
        "    # Inicializa probabilidades\n",
        "    prob_positivo = 1\n",
        "    prob_negativo = 1\n",
        "\n",
        "    for palavra in frase.split():\n",
        "        # Calcula probabilidade de cada palavra (Laplace adiciona 1 para evitar zero)\n",
        "        prob_positivo *= (positivo.get(palavra, 0) + 1) / (sum(positivo.values()) + len(positivo))\n",
        "        prob_negativo *= (negativo.get(palavra, 0) + 1) / (sum(negativo.values()) + len(negativo))\n",
        "\n",
        "    # Retorna o maior sentimento\n",
        "    return \"Positivo\" if prob_positivo > prob_negativo else \"Negativo\"\n",
        "\n",
        "# Teste com uma nova avaliação\n",
        "nova_avaliacao = \"Ótimo filme\"\n",
        "resultado = classificar_avaliacao(nova_avaliacao, avaliacoes)\n",
        "print(f\"A frase '{nova_avaliacao}' foi classificada como: {resultado}\")\n"
      ],
      "metadata": {
        "colab": {
          "base_uri": "https://localhost:8080/"
        },
        "id": "eNODGUlnwjnG",
        "outputId": "91890fd8-1be8-4bee-e2cd-33a162e8a30e"
      },
      "execution_count": 1,
      "outputs": [
        {
          "output_type": "stream",
          "name": "stdout",
          "text": [
            "A frase 'Ótimo filme' foi classificada como: Positivo\n"
          ]
        }
      ]
    },
    {
      "cell_type": "markdown",
      "source": [
        "# **Exemplos do roteiro**\n",
        "---\n",
        "\n",
        "Os códigos preparam e usam ferramentas de processamento de linguagem para identificar se textos têm sentimentos positivos, negativos ou neutros, seja com um modelo pré-treinado (VADER) ou com aprendizado a partir de exemplos (Naive Bayes).\n"
      ],
      "metadata": {
        "id": "TvA2My9dbQlC"
      }
    },
    {
      "cell_type": "markdown",
      "source": [
        "### Exemplo 1 - Análise de sentimentos com a biblioteca NLTK\n",
        "\n",
        "O código está configurando o ambiente para análise de sentimentos ao importar a biblioteca NLTK, incluindo o analisador de sentimentos VADER, baixando os recursos necessários e analisa o sentimento (positivo, negativo ou neutro) de uma lista de textos utilizando o modelo pré-treinado VADER do NLTK.\n",
        "\n",
        "\n",
        "\n"
      ],
      "metadata": {
        "id": "952l2M08bfCh"
      }
    },
    {
      "cell_type": "code",
      "source": [
        "from nltk.sentiment import SentimentIntensityAnalyzer\n",
        "import nltk\n",
        "nltk.download('vader_lexicon')\n",
        "\n",
        "sid = SentimentIntensityAnalyzer()\n",
        "\n",
        "textos = [\n",
        "    \"Este filme é incrível! Eu adorei cada minuto\",\n",
        "    \"Odiei este filme. Foi uma perda de tempo.\",\n",
        "    \"O filme foi ok, nada de especial\",\n",
        "    \"Estou muito feliz com o produto, funciona perfeitamente!\",\n",
        "    \"Que serviço horrível! Nunca mais compro nessa loja.\"\n",
        "]\n",
        "\n",
        "for texto in textos:\n",
        "    print(f\"Texto: {texto}\")\n",
        "    ss = sid.polarity_scores(texto)\n",
        "    print(f\"Pontuação: {ss}\")\n",
        "    if ss['compound'] >= 0.05:\n",
        "        print(\"Sentimento: Positivo\")\n",
        "    elif ss['compound'] <= -0.05:\n",
        "        print(\"Sentimento: Negativo\")\n",
        "    else:\n",
        "        print(\"Sentimento: Neutro\")\n",
        "    print(\"\\n\")\n"
      ],
      "metadata": {
        "id": "s8dwnbNDbyaO",
        "colab": {
          "base_uri": "https://localhost:8080/"
        },
        "outputId": "e3ab0bf7-4b04-4758-a1dc-70fb944d8d89"
      },
      "execution_count": 5,
      "outputs": [
        {
          "output_type": "stream",
          "name": "stdout",
          "text": [
            "Texto: Este filme é incrível! Eu adorei cada minuto\n",
            "Pontuação: {'neg': 0.0, 'neu': 1.0, 'pos': 0.0, 'compound': 0.0}\n",
            "Sentimento: Neutro\n",
            "\n",
            "\n",
            "Texto: Odiei este filme. Foi uma perda de tempo.\n",
            "Pontuação: {'neg': 0.0, 'neu': 1.0, 'pos': 0.0, 'compound': 0.0}\n",
            "Sentimento: Neutro\n",
            "\n",
            "\n",
            "Texto: O filme foi ok, nada de especial\n",
            "Pontuação: {'neg': 0.0, 'neu': 0.694, 'pos': 0.306, 'compound': 0.296}\n",
            "Sentimento: Positivo\n",
            "\n",
            "\n",
            "Texto: Estou muito feliz com o produto, funciona perfeitamente!\n",
            "Pontuação: {'neg': 0.0, 'neu': 1.0, 'pos': 0.0, 'compound': 0.0}\n",
            "Sentimento: Neutro\n",
            "\n",
            "\n",
            "Texto: Que serviço horrível! Nunca mais compro nessa loja.\n",
            "Pontuação: {'neg': 0.0, 'neu': 1.0, 'pos': 0.0, 'compound': 0.0}\n",
            "Sentimento: Neutro\n",
            "\n",
            "\n"
          ]
        },
        {
          "output_type": "stream",
          "name": "stderr",
          "text": [
            "[nltk_data] Downloading package vader_lexicon to /root/nltk_data...\n",
            "[nltk_data]   Package vader_lexicon is already up-to-date!\n"
          ]
        }
      ]
    },
    {
      "cell_type": "markdown",
      "source": [
        "### Exemplo 2 - Análise de sentimentos de Avaliação de Filmes com Naives Bayes\n",
        "\n",
        "Este código utiliza um método chamado Naive Bayes para analisar frases fornecidas e determinar automaticamente se o sentimento delas é \"Positivo\" ou \"Negativo\" com base em exemplos anteriores de avaliações classificadas.\n",
        "\n",
        "\n"
      ],
      "metadata": {
        "id": "70egOE6ib9-f"
      }
    },
    {
      "cell_type": "code",
      "source": [
        "# Primeira etapa: Criação de funções que calculam a quantidade de palavras, e as probabilidades\n",
        "\n",
        "import numpy as np\n",
        "\n",
        "def contar_palavras(avaliacoes, sentimento):\n",
        "  \"\"\"Conta a frequência de cada palavra em avaliação de um dado sentimento.\"\"\"\n",
        "  contagem ={}\n",
        "  for avaliacao, sent in avaliacoes:\n",
        "    if sent == sentimento:\n",
        "      for palavra in avaliacao.lower().split():\n",
        "        if palavra in contagem:\n",
        "          contagem[palavra] += 1\n",
        "        else:\n",
        "          contagem[palavra] = 1\n",
        "  return contagem\n",
        "\n",
        "def calcular_probabilidade_sentimento(avaliacoes, sentimento):\n",
        "  \"\"\"Calcula a probabilidade de uma avaliação ser de um dado sentimento.\"\"\"\n",
        "\n",
        "  total_avaliacoes = len(avaliacoes)\n",
        "  contagem_sentimento = sum(1 for _, sent in avaliacoes if sent == sentimento)\n",
        "  return contagem_sentimento / total_avaliacoes\n",
        "\n",
        "def calcular_probabilidade_palavra_dado_sentimento(palavra, contagem_palavras, total_palavras_sentimento, total_palavras_vocabulario, alpha=1):\n",
        "  \"\"\" Calcula a probabilidade de uma palavra aparecer dado um sentimento (com suavização Laplace).\"\"\"\n",
        "  contagem_palavra = contagem_palavras.get(palavra, 0)\n",
        "  return (contagem_palavra + alpha) / (total_palavras_sentimento + alpha * total_palavras_vocabulario)"
      ],
      "metadata": {
        "id": "rT4l8LBwb_ls"
      },
      "execution_count": 6,
      "outputs": []
    },
    {
      "cell_type": "code",
      "source": [
        "# Segunda etapa: Criação da função que calcula a classificação da palavra pertencer a um sentimento\n",
        "\n",
        "def classificar_avaliacao(avaliacao, avaliacoes):\n",
        "  \"\"\"Classifica o sentimento de uma nova avaliação usando Naive Bayes.\"\"\"\n",
        "\n",
        "  sentimentos = [\"Positivo\", \"Negativo\"]\n",
        "  probabilidades_sentimento = {}\n",
        "\n",
        "  # Calcular probabilidades a priori dos sentimentos\n",
        "  probabilidades_sentimento[\"Positivo\"] = calcular_probabilidade_sentimento(avaliacoes, \"Positivo\")\n",
        "  probabilidades_sentimento[\"Negativo\"] = calcular_probabilidade_sentimento(avaliacoes, \"Negativo\")\n",
        "\n",
        "  # Contar palavras em cada sentimento\n",
        "  contagem_palavras_positivo = contar_palavras(avaliacoes, \"Positivo\")\n",
        "  contagem_palavras_negativo = contar_palavras(avaliacoes, \"Negativo\")\n",
        "\n",
        "  # Calcular total de palavras em cada sentimento\n",
        "  total_palavras_positivo = sum(contagem_palavras_positivo.values())\n",
        "  total_palavras_negativo = sum(contagem_palavras_negativo.values())\n",
        "\n",
        "  # Calcular tamanho do vocabulário\n",
        "  vocabulario = set()\n",
        "  for avaliacao, _ in avaliacoes:\n",
        "    for palavra in avaliacao.lower().split():\n",
        "      vocabulario.add(palavra)\n",
        "  total_palavras_vocabulario = len(vocabulario)\n",
        "\n",
        "  # Calcular probabilidade para cada sentimento:\n",
        "  for sentimento in sentimentos:\n",
        "    probabilidade_total = probabilidades_sentimento[sentimento]\n",
        "    contagem_palavras_sentimento = contagem_palavras_positivo if sentimento == \"Positivo\" else contagem_palavras_negativo\n",
        "    total_palavras_sentimento = total_palavras_positivo if sentimento == \"Positivo\" else total_palavras_negativo\n",
        "\n",
        "    for palavra in avaliacao.lower().split():\n",
        "      probabilidade_palavra = calcular_probabilidade_palavra_dado_sentimento(\n",
        "          palavra, contagem_palavras_sentimento, total_palavras_sentimento, total_palavras_vocabulario\n",
        "      )\n",
        "      probabilidade_total *= probabilidade_palavra\n",
        "    probabilidades_sentimento[sentimento] = probabilidade_total\n",
        "\n",
        "  # Classificar com base na maior probabilidade\n",
        "  melhor_sentimento = max(probabilidades_sentimento, key=probabilidades_sentimento.get)\n",
        "  return melhor_sentimento\n",
        "\n",
        "\n",
        "\n"
      ],
      "metadata": {
        "id": "ru11cvqkcEco"
      },
      "execution_count": null,
      "outputs": []
    },
    {
      "cell_type": "code",
      "source": [
        "# Terceira Etapa – Fornecimento de um modelo para treinamento\n",
        "\n",
        "avaliacoes = [\n",
        "  (\"Filme incrível! Adorei a atuação.\", \"Positivo\"),\n",
        "  (\"Roteiro fraco, não recomendo.\", \"Negativo\"),\n",
        "  (\"Atuação boa, mas filme longo.\", \"Positivo\"),\n",
        "  (\"Péssimo! Perdi meu tempo.\", \"Negativo\"),\n",
        "]"
      ],
      "metadata": {
        "id": "odpdr6rRcJgw"
      },
      "execution_count": null,
      "outputs": []
    },
    {
      "cell_type": "code",
      "source": [
        "# Quarta etapa  - Fornecendo uma frase para ser avaliada\n",
        "\n",
        "# Nova avaliação a ser classificada\n",
        "\n",
        "nova_avaliacao=input(\"O que você achou do filme 101 Dalmatas? \")\n",
        "\n",
        "# Classificar a nova avaliação\n",
        "sentimento = classificar_avaliacao(nova_avaliacao, avaliacoes)\n",
        "print(f\"A avaliação '{nova_avaliacao}' foi classificada como: {sentimento}\")"
      ],
      "metadata": {
        "colab": {
          "base_uri": "https://localhost:8080/"
        },
        "id": "MtxtJNhScKjA",
        "outputId": "ffd016ab-156b-47e4-df1b-631cfb800211"
      },
      "execution_count": 8,
      "outputs": [
        {
          "output_type": "stream",
          "name": "stdout",
          "text": [
            "O que você achou do filme 101 Dalmatas? Não gostei\n",
            "A avaliação 'Não gostei' foi classificada como: Negativo\n"
          ]
        }
      ]
    },
    {
      "cell_type": "code",
      "source": [
        "# Quinta etapa - Treine com um novo modelo de dados\n",
        "\n",
        "avaliacoes = [\n",
        "  (\"Filme incrível! Adorei a atuação, roteiro e direção.\", \"Positivo\"),\n",
        "  (\"Roteiro fraco, atuação ruim, não recomendo. Perda de tempo.\", \"Negativo\"),\n",
        "  (\"Atuação boa, mas filme um pouco longo e arrastado.\", \"Positivo\"),\n",
        "  (\"Péssimo! Perdi meu tempo, dinheiro e paciência. Horrível.\", \"Negativo\"),\n",
        "  (\"Amei! Elenco maravilhoso, fotografia impecável. Recomendo muito!\", \"Positivo\"),\n",
        "  (\"Chato, previsível e sem graça. Saí no meio do filme.\", \"Negativo\"),\n",
        "  (\"Uma obra-prima! Roteiro inteligente, atuações memoráveis.\", \"Positivo\"),\n",
        "  (\"Cansativo, atuações forçadas, final decepcionante.\", \"Negativo\"),\n",
        "  (\"Divertido e emocionante! Ótimo para assistir com a família.\", \"Positivo\"),\n",
        "  (\"Clichê, sem originalidade, diálogos fracos. Não vale a pena.\", \"Negativo\"),\n",
        "  (\"Surpreendente e envolvente! Me prendeu do início ao fim.\", \"Positivo\"),\n",
        "  (\"Confuso, mal dirigido, edição amadora. Um desastre.\", \"Negativo\"),\n",
        "  (\"Atuação excelente, história cativante, trilha sonora perfeita.\", \"Positivo\"),\n",
        "  (\"Atuações medianas, história arrastada, trilha sonora irritante.\", \"Negativo\"),\n",
        "  (\"Roteiro bem construído, diálogos afiados, direção impecável.\", \"Positivo\"),\n",
        "  (\"Roteiro fraco, diálogos bobos, direção perdida.\", \"Negativo\"),\n",
        "  (\"Uma experiência cinematográfica única! Recomendo a todos os amantes do cinema.\", \"Positivo\"),\n",
        "  (\"Um filme esquecível, sem emoção e sem impacto.\", \"Negativo\"),\n",
        "  (\"Comovente e inspirador! Me fez refletir sobre a vida.\", \"Positivo\"),\n",
        "  (\"Decepcionante e frustrante! Não recomendo nem para passar o tempo.\", \"Negativo\"),\n",
        "  (\"Ótimo, gostei muito\",'Positivo')\n",
        "]\n"
      ],
      "metadata": {
        "id": "4bKJusCkdH5D"
      },
      "execution_count": null,
      "outputs": []
    }
  ]
}