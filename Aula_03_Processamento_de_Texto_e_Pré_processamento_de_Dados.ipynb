{
  "nbformat": 4,
  "nbformat_minor": 0,
  "metadata": {
    "colab": {
      "provenance": [],
      "authorship_tag": "ABX9TyOOnZ9UtIpzAJyImHsPaDR9",
      "include_colab_link": true
    },
    "kernelspec": {
      "name": "python3",
      "display_name": "Python 3"
    },
    "language_info": {
      "name": "python"
    }
  },
  "cells": [
    {
      "cell_type": "markdown",
      "metadata": {
        "id": "view-in-github",
        "colab_type": "text"
      },
      "source": [
        "<a href=\"https://colab.research.google.com/github/Xketh/Fatec_PLN/blob/main/Aula_03_Processamento_de_Texto_e_Pr%C3%A9_processamento_de_Dados.ipynb\" target=\"_parent\"><img src=\"https://colab.research.google.com/assets/colab-badge.svg\" alt=\"Open In Colab\"/></a>"
      ]
    },
    {
      "cell_type": "code",
      "execution_count": null,
      "metadata": {
        "id": "ciP5tXA4Cvj6"
      },
      "outputs": [],
      "source": []
    },
    {
      "cell_type": "markdown",
      "source": [
        "O pré-processamento de texto é uma etapa crucial no processamento de linguagem natural (PLN).\n",
        "Ele limpa e organiza o texto, deixando apenas informações relevantes para facilitar o trabalho dos algoritmos.\n",
        "Aqui estão as principais técnicas:\n",
        "\n",
        "---\n",
        "\n",
        "### **1. Normalização de Texto**  \n",
        "Uniformiza o texto para evitar variações desnecessárias.  \n",
        "- **Exemplos:**  \n",
        "  - Converte para minúsculas: \"Carro\" → \"carro\".  \n",
        "  - Remove acentos: \"ação\" → \"acao\".  \n",
        "  - Expande contrações: \"não é\" → \"nao e\".  \n",
        "\n",
        "---\n",
        "\n",
        "### **2. Remoção de Ruído**  \n",
        "Elimina elementos que não agregam valor, como:  \n",
        "- **Exemplos:**  \n",
        "  - Pontuação: \"Olá, tudo bem?\" → \"Olá tudo bem\".  \n",
        "  - Links: \"Visite https://site.com\" → \"Visite\".  \n",
        "\n",
        "---\n",
        "\n",
        "### **3. Tokenização**  \n",
        "Divide o texto em unidades menores (*tokens*), como palavras.  \n",
        "- **Exemplo:**  \n",
        "  - Texto: \"Eu gosto de aprender.\"  \n",
        "  - Tokens: [\"Eu\", \"gosto\", \"de\", \"aprender\", \".\"]  \n",
        "\n",
        "---\n",
        "\n",
        "### **4. Remoção de Stopwords**  \n",
        "Remove palavras comuns que pouco contribuem para a análise.  \n",
        "- **Exemplo:**  \n",
        "  - Antes: \"Eu gosto de aprender coisas novas.\"  \n",
        "  - Depois: [\"gosto\", \"aprender\", \"coisas\", \"novas\"].  \n",
        "\n",
        "---\n",
        "\n",
        "### **5. Stemming**  \n",
        "Reduz palavras à sua raiz, sem considerar o contexto.  \n",
        "- **Exemplo:**  \n",
        "  - \"Correndo\", \"Correr\", \"Correu\" → \"Corr\".  \n",
        "  - \"Amando\", \"Amar\", \"Amei\" → \"Am\".  \n",
        "\n",
        "---\n",
        "\n",
        "### **6. Lematização**  \n",
        "Reduz palavras à forma base, considerando o contexto.  \n",
        "- **Exemplo:**  \n",
        "  - \"Correndo\", \"Correr\", \"Correu\" → \"Correr\".  \n",
        "  - \"Melhores\" → \"Melhor\".  \n",
        "\n",
        "---\n",
        "\n",
        "### **Resumo do Processo:**  \n",
        "1. **Texto original:**  \n",
        "   \"Eu gostei muito de aprender sobre processamento de texto!\"  \n",
        "2. **Após o pré-processamento:**  \n",
        "   [\"gostar\", \"muito\", \"aprender\", \"processamento\", \"texto\"].  \n",
        "\n",
        "Essas etapas tornam o texto mais limpo e estruturado, facilitando análises precisas!"
      ],
      "metadata": {
        "id": "-AvsxG29DF8r"
      }
    }
  ]
}